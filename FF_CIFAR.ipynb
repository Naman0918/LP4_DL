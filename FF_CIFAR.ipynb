{
 "cells": [
  {
   "cell_type": "code",
   "execution_count": 51,
   "metadata": {},
   "outputs": [],
   "source": [
    "import pandas as pd\n",
    "import numpy as np\n",
    "import matplotlib.pyplot as plt\n",
    "from tensorflow.keras.layers import Dense, Flatten, Dropout\n",
    "from tensorflow.keras.models import Sequential\n",
    "from tensorflow.keras.datasets import cifar10"
   ]
  },
  {
   "cell_type": "code",
   "execution_count": 52,
   "metadata": {},
   "outputs": [],
   "source": [
    "(x_train, y_train),(x_test, y_test) = cifar10.load_data()"
   ]
  },
  {
   "cell_type": "code",
   "execution_count": 53,
   "metadata": {},
   "outputs": [
    {
     "name": "stdout",
     "output_type": "stream",
     "text": [
      "(50000, 32, 32, 3)\n"
     ]
    }
   ],
   "source": [
    "print(x_train.shape)"
   ]
  },
  {
   "cell_type": "code",
   "execution_count": 54,
   "metadata": {},
   "outputs": [],
   "source": [
    "x_train = x_train.astype('float32')/255.0\n",
    "x_test = x_test.astype('float32')/255.0"
   ]
  },
  {
   "cell_type": "code",
   "execution_count": 55,
   "metadata": {},
   "outputs": [],
   "source": [
    "model = Sequential()\n",
    "model.add(Flatten(input_shape = (32, 32, 3)))\n",
    "model.add(Dense(128, activation = 'relu'))\n",
    "model.add(Dropout(0.2))\n",
    "model.add(Dense(64, activation = 'relu'))\n",
    "model.add(Dense(10, activation = 'softmax'))\n"
   ]
  },
  {
   "cell_type": "code",
   "execution_count": 56,
   "metadata": {},
   "outputs": [],
   "source": [
    "model.compile(optimizer='Adam', loss='sparse_categorical_crossentropy', metrics=['accuracy'])"
   ]
  },
  {
   "cell_type": "code",
   "execution_count": 57,
   "metadata": {},
   "outputs": [
    {
     "name": "stdout",
     "output_type": "stream",
     "text": [
      "Epoch 1/11\n",
      "782/782 [==============================] - 3s 4ms/step - loss: 1.9835 - accuracy: 0.2681 - val_loss: 1.8124 - val_accuracy: 0.3442\n",
      "Epoch 2/11\n",
      "782/782 [==============================] - 2s 3ms/step - loss: 1.8738 - accuracy: 0.3135 - val_loss: 1.7561 - val_accuracy: 0.3666\n",
      "Epoch 3/11\n",
      "782/782 [==============================] - 3s 4ms/step - loss: 1.8347 - accuracy: 0.3289 - val_loss: 1.7323 - val_accuracy: 0.3806\n",
      "Epoch 4/11\n",
      "782/782 [==============================] - 4s 5ms/step - loss: 1.8074 - accuracy: 0.3411 - val_loss: 1.7044 - val_accuracy: 0.3869\n",
      "Epoch 5/11\n",
      "782/782 [==============================] - 3s 4ms/step - loss: 1.7805 - accuracy: 0.3514 - val_loss: 1.6696 - val_accuracy: 0.4139\n",
      "Epoch 6/11\n",
      "782/782 [==============================] - 3s 3ms/step - loss: 1.7629 - accuracy: 0.3583 - val_loss: 1.6764 - val_accuracy: 0.3977\n",
      "Epoch 7/11\n",
      "782/782 [==============================] - 2s 3ms/step - loss: 1.7491 - accuracy: 0.3655 - val_loss: 1.6802 - val_accuracy: 0.3928\n",
      "Epoch 8/11\n",
      "782/782 [==============================] - 3s 4ms/step - loss: 1.7394 - accuracy: 0.3668 - val_loss: 1.6715 - val_accuracy: 0.4049\n",
      "Epoch 9/11\n",
      "782/782 [==============================] - 2s 3ms/step - loss: 1.7321 - accuracy: 0.3716 - val_loss: 1.6558 - val_accuracy: 0.4068\n",
      "Epoch 10/11\n",
      "782/782 [==============================] - 3s 4ms/step - loss: 1.7177 - accuracy: 0.3764 - val_loss: 1.6620 - val_accuracy: 0.4092\n",
      "Epoch 11/11\n",
      "782/782 [==============================] - 3s 3ms/step - loss: 1.7169 - accuracy: 0.3797 - val_loss: 1.6397 - val_accuracy: 0.4129\n"
     ]
    }
   ],
   "source": [
    "r = model.fit(x_train, y_train, batch_size=64, epochs=11, validation_data=(x_test, y_test))"
   ]
  },
  {
   "cell_type": "code",
   "execution_count": 58,
   "metadata": {},
   "outputs": [
    {
     "data": {
      "text/plain": [
       "[<matplotlib.lines.Line2D at 0x31a71a810>]"
      ]
     },
     "execution_count": 58,
     "metadata": {},
     "output_type": "execute_result"
    },
    {
     "data": {
      "image/png": "[encoded data removed]",
      "text/plain": [
       "<Figure size 640x480 with 1 Axes>"
      ]
     },
     "metadata": {},
     "output_type": "display_data"
    }
   ],
   "source": [
    "plt.plot(r.history['accuracy'], c= 'r')\n",
    "plt.plot(r.history['val_accuracy'], c= 'g')"
   ]
  },
  {
   "cell_type": "code",
   "execution_count": null,
   "metadata": {},
   "outputs": [],
   "source": []
  }
 ],
 "metadata": {
  "kernelspec": {
   "display_name": "Python 3",
   "language": "python",
   "name": "python3"
  },
  "language_info": {
   "codemirror_mode": {
    "name": "ipython",
    "version": 3
   },
   "file_extension": ".py",
   "mimetype": "text/x-python",
   "name": "python",
   "nbconvert_exporter": "python",
   "pygments_lexer": "ipython3",
   "version": "3.11.4"
  }
 },
 "nbformat": 4,
 "nbformat_minor": 2
}
